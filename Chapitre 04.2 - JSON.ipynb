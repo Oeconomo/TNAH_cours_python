{
 "cells": [
  {
   "cell_type": "markdown",
   "metadata": {},
   "source": [
    "# Chapitre 4.2 - Les fichiers CSV, JSON et les requêtes\n",
    "\n",
    "---\n",
    "\n",
    "## Le format JSON\n",
    "\n",
    "![Json](images/json.png)\n",
    "\n",
    "*Dit : Jayzone à l'Américaine ou gisson à la française*\n",
    "\n",
    "### 1. Historique \n",
    "\n",
    "Le format JSON est apparu pendant la première moitié des années 2000 et a été développé pour alléger la communication de données \"simples\" sur le web. Il est né dans le contexte du langage JavaScript mais est aujourd'hui utilisé dans l'ensemble des langages fortement utilisés (python, java, ruby, php, etc.)\n",
    "\n",
    "Le JSON est aujourd'hui présent dans 99% des requêtes du web sans que vous vous en rendiez compte ! Il est en effet le format privilégié par les développeurs pour communiquer entre le client et le serveur une fois la page affichée. "
   ]
  },
  {
   "cell_type": "markdown",
   "metadata": {},
   "source": [
    "### 2. Structure\n",
    "    Si je regarde la communication entre Twitter et mon client, je peux voir quelque chose comme cela dans les ce qui est communiqué de mon navigateur (*Note: * pour respecter la vie privée du professeur, ce qui est affiché en dessous et le résultat d'une recherche sur l'API de Twitter pour les termes \"Humanités Numériques\"):\n",
    "\n",
    "![JSON Exemple](images/json.twitter.png)\n",
    "\n",
    "Vous reconnaissez ? JSON est en fait très proche de la manière de décrire des dictionnaires ou des listes en python. Et de fait, l'objet racine de JSON peut être une liste ou un dictionnaire et peut contenir :\n",
    "- des listes,\n",
    "- des dictionnaires,\n",
    "- des booléens,\n",
    "- des chaines de caractères\n",
    "- des entiers et des décimaux\n",
    "- des objets \"vides\" (`null`, l'équivalent de `None` en Python)\n",
    "\n",
    "Voici un exemple simple en commençant par une liste comme élément source:\n",
    "\n",
    "```json\n",
    "[\n",
    "    {\"vers\": 1, \"texte\": \"Après l'insurrection du 17 juin,\"},\n",
    "    {\"vers\": 2, \"texte\": \"Le secrétaire de l'Union des Écrivains\"},\n",
    "    {\"vers\": 3, \"texte\": \"Fit distribuer des tracts dans la Stalinallée.\"},\n",
    "    {\"vers\": 4, \"texte\": \"Le peuple, y lisait-on, a par sa faute\"},\n",
    "    {\"vers\": 5, \"texte\": \"Perdu la confiance du gouvernement\"},\n",
    "    {\"vers\": 6, \"texte\": \"Et ce n'est qu'en redoublant d'efforts\"},\n",
    "    {\"vers\": 7, \"texte\": \"Qu'il peut la regagner.\"},\n",
    "    {\"vers\": 8, \"texte\": \"Ne serait-il pas\"},\n",
    "    {\"vers\": 9, \"texte\": \"Plus simple alors pour le gouvernement\"},\n",
    "    {\"vers\": 10, \"texte\": \"De dissoudre le peuple\"},\n",
    "    {\"vers\": 11, \"texte\": \"Et d'en élire un autre ?\"}\n",
    "]\n",
    "```\n",
    "\n",
    "et un exemple en commençant par un dictionnaire : \n",
    "\n",
    "```json\n",
    "{\n",
    "    \"titre\": {\"fre\": \"La Solution\", \"ger\": \"Die Lösung\"},\n",
    "    \"auteur\": \"Bertold Brecht\",\n",
    "    \"annee\": 1953,\n",
    "    \"source\": \"https://fr.wikipedia.org/wiki/Die_L%C3%B6sung\",\n",
    "    \"vers\": [\n",
    "        {\"n\": 1, \"texte\": \"Après l'insurrection du 17 juin,\"},\n",
    "        {\"n\": 2, \"texte\": \"Le secrétaire de l'Union des Écrivains\"},\n",
    "        {\"n\": 3, \"texte\": \"Fit distribuer des tracts dans la Stalinallée.\"},\n",
    "        {\"n\": 4, \"texte\": \"Le peuple, y lisait-on, a par sa faute\"},\n",
    "        {\"n\": 5, \"texte\": \"Perdu la confiance du gouvernement\"},\n",
    "        {\"n\": 6, \"texte\": \"Et ce n'est qu'en redoublant d'efforts\"},\n",
    "        {\"n\": 7, \"texte\": \"Qu'il peut la regagner.\"},\n",
    "        {\"n\": 8, \"texte\": \"Ne serait-il pas\"},\n",
    "        {\"n\": 9, \"texte\": \"Plus simple alors pour le gouvernement\"},\n",
    "        {\"n\": 10, \"texte\": \"De dissoudre le peuple\"},\n",
    "        {\"n\": 11, \"texte\": \"Et d'en élire un autre ?\"}\n",
    "    ]\n",
    "}\n",
    "```"
   ]
  },
  {
   "cell_type": "markdown",
   "metadata": {},
   "source": [
    "### 3. JSON et Python\n",
    "\n",
    "Tout comme pour `csv`, Python propose son propre module. Le module [`json`](https://docs.python.org/3.5/library/json.html). Et tout comme pour `csv`, il propose un outil pour lire et un pour écrire !"
   ]
  },
  {
   "cell_type": "markdown",
   "metadata": {},
   "source": [
    "#### a. Lire\n",
    "\n",
    "Python propose deux fonctions pour lire du JSON : `json.load()` et `json.loads()`. La différence entre les deux est très ténue : la première prend une instance de fichier en cours de lecture, l'autre une chaine de caractère (d'où le `s` à la fin pour `str`):"
   ]
  },
  {
   "cell_type": "code",
   "execution_count": 1,
   "metadata": {},
   "outputs": [
    {
     "name": "stdout",
     "output_type": "stream",
     "text": [
      "{'titre': {'fre': 'La Solution', 'ger': 'Die Lösung'}, 'auteur': 'Bertold Brecht', 'annee': 1953, 'source': 'https://fr.wikipedia.org/wiki/Die_L%C3%B6sung', 'vers': [{'n': 1, 'texte': \"Après l'insurrection du 17 juin,\"}, {'n': 2, 'texte': \"Le secrétaire de l'Union des Écrivains\"}, {'n': 3, 'texte': 'Fit distribuer des tracts dans la Stalinallée.'}, {'n': 4, 'texte': 'Le peuple, y lisait-on, a par sa faute'}, {'n': 5, 'texte': 'Perdu la confiance du gouvernement'}, {'n': 6, 'texte': \"Et ce n'est qu'en redoublant d'efforts\"}, {'n': 7, 'texte': \"Qu'il peut la regagner.\"}, {'n': 8, 'texte': 'Ne serait-il pas'}, {'n': 9, 'texte': 'Plus simple alors pour le gouvernement'}, {'n': 10, 'texte': 'De dissoudre le peuple'}, {'n': 11, 'texte': \"Et d'en élire un autre ?\"}]}\n",
      "{'titre': {'fre': 'La Solution', 'ger': 'Die Lösung'}, 'auteur': 'Bertold Brecht', 'annee': 1953, 'source': 'https://fr.wikipedia.org/wiki/Die_L%C3%B6sung', 'vers': [{'n': 1, 'texte': \"Après l'insurrection du 17 juin,\"}, {'n': 2, 'texte': \"Le secrétaire de l'Union des Écrivains\"}, {'n': 3, 'texte': 'Fit distribuer des tracts dans la Stalinallée.'}, {'n': 4, 'texte': 'Le peuple, y lisait-on, a par sa faute'}, {'n': 5, 'texte': 'Perdu la confiance du gouvernement'}, {'n': 6, 'texte': \"Et ce n'est qu'en redoublant d'efforts\"}, {'n': 7, 'texte': \"Qu'il peut la regagner.\"}, {'n': 8, 'texte': 'Ne serait-il pas'}, {'n': 9, 'texte': 'Plus simple alors pour le gouvernement'}, {'n': 10, 'texte': 'De dissoudre le peuple'}, {'n': 11, 'texte': \"Et d'en élire un autre ?\"}]}\n",
      "{\n",
      "    \"titre\": {\"fre\": \"La Solution\", \"ger\": \"Die Lösung\"},\n",
      "    \"auteur\": \"Bertold Brecht\",\n",
      "    \"annee\": 1953,\n",
      "    \"source\": \"https://fr.wikipedia.org/wiki/Die_L%C3%B6sung\",\n",
      "    \"vers\": [\n",
      "        {\"n\": 1, \"texte\": \"Après l'insurrection du 17 juin,\"},\n",
      "        {\"n\": 2, \"texte\": \"Le secrétaire de l'Union des Écrivains\"},\n",
      "        {\"n\": 3, \"texte\": \"Fit distribuer des tracts dans la Stalinallée.\"},\n",
      "        {\"n\": 4, \"texte\": \"Le peuple, y lisait-on, a par sa faute\"},\n",
      "        {\"n\": 5, \"texte\": \"Perdu la confiance du gouvernement\"},\n",
      "        {\"n\": 6, \"texte\": \"Et ce n'est qu'en redoublant d'efforts\"},\n",
      "        {\"n\": 7, \"texte\": \"Qu'il peut la regagner.\"},\n",
      "        {\"n\": 8, \"texte\": \"Ne serait-il pas\"},\n",
      "        {\"n\": 9, \"texte\": \"Plus simple alors pour le gouvernement\"},\n",
      "        {\"n\": 10, \"texte\": \"De dissoudre le peuple\"},\n",
      "        {\"n\": 11, \"texte\": \"Et d'en élire un autre ?\"}\n",
      "    ]\n",
      "}\n",
      "{'titre': {'fre': 'La Solution', 'ger': 'Die Lösung'}, 'auteur': 'Bertold Brecht', 'annee': 1953, 'source': 'https://fr.wikipedia.org/wiki/Die_L%C3%B6sung', 'vers': [{'n': 1, 'texte': \"Après l'insurrection du 17 juin,\"}, {'n': 2, 'texte': \"Le secrétaire de l'Union des Écrivains\"}, {'n': 3, 'texte': 'Fit distribuer des tracts dans la Stalinallée.'}, {'n': 4, 'texte': 'Le peuple, y lisait-on, a par sa faute'}, {'n': 5, 'texte': 'Perdu la confiance du gouvernement'}, {'n': 6, 'texte': \"Et ce n'est qu'en redoublant d'efforts\"}, {'n': 7, 'texte': \"Qu'il peut la regagner.\"}, {'n': 8, 'texte': 'Ne serait-il pas'}, {'n': 9, 'texte': 'Plus simple alors pour le gouvernement'}, {'n': 10, 'texte': 'De dissoudre le peuple'}, {'n': 11, 'texte': \"Et d'en élire un autre ?\"}]}\n"
     ]
    }
   ],
   "source": [
    "import json\n",
    "\n",
    "# A partir d'un wrapper de fichier\n",
    "with open(\"data/json/brecht.json\") as f:\n",
    "    print(json.load(f))\n",
    "    \n",
    "# A partir d'une chaîne\n",
    "with open(\"data/json/brecht.json\") as f:\n",
    "    chaine = f.read()\n",
    "    print(json.loads(chaine))\n",
    "    \n",
    "#moi : test :\n",
    "print(chaine)    #sans conversion, on obtient une CHAINE qui garde la structure visuelle json\n",
    "#les autres changent car ce sont carrément des listes et dic python\n",
    "print(json.load(open(\"data/json/brecht.json\")))\n",
    "\n"
   ]
  },
  {
   "cell_type": "markdown",
   "metadata": {},
   "source": [
    "Puisque ces structures sont connues de Python, elles sont traduites par Python dans les structures équivalentes ! On peut désormais s'amuser avec les données :"
   ]
  },
  {
   "cell_type": "code",
   "execution_count": 2,
   "metadata": {},
   "outputs": [
    {
     "name": "stdout",
     "output_type": "stream",
     "text": [
      "{'titre': {'fre': 'La Solution', 'ger': 'Die Lösung'}, 'auteur': 'Bertold Brecht', 'annee': 1953, 'source': 'https://fr.wikipedia.org/wiki/Die_L%C3%B6sung', 'vers': [{'n': 1, 'texte': \"Après l'insurrection du 17 juin,\"}, {'n': 2, 'texte': \"Le secrétaire de l'Union des Écrivains\"}, {'n': 3, 'texte': 'Fit distribuer des tracts dans la Stalinallée.'}, {'n': 4, 'texte': 'Le peuple, y lisait-on, a par sa faute'}, {'n': 5, 'texte': 'Perdu la confiance du gouvernement'}, {'n': 6, 'texte': \"Et ce n'est qu'en redoublant d'efforts\"}, {'n': 7, 'texte': \"Qu'il peut la regagner.\"}, {'n': 8, 'texte': 'Ne serait-il pas'}, {'n': 9, 'texte': 'Plus simple alors pour le gouvernement'}, {'n': 10, 'texte': 'De dissoudre le peuple'}, {'n': 11, 'texte': \"Et d'en élire un autre ?\"}]}\n",
      "La Solution\n",
      "-- Bertold Brecht\n",
      "(1) Après l'insurrection du 17 juin,\n",
      "(2) Le secrétaire de l'Union des Écrivains\n",
      "(3) Fit distribuer des tracts dans la Stalinallée.\n",
      "(4) Le peuple, y lisait-on, a par sa faute\n",
      "(5) Perdu la confiance du gouvernement\n",
      "(6) Et ce n'est qu'en redoublant d'efforts\n",
      "(7) Qu'il peut la regagner.\n",
      "(8) Ne serait-il pas\n",
      "(9) Plus simple alors pour le gouvernement\n",
      "(10) De dissoudre le peuple\n",
      "(11) Et d'en élire un autre ?\n"
     ]
    }
   ],
   "source": [
    "import json\n",
    "\n",
    "# A partir d'un wrapper de fichier\n",
    "with open(\"data/json/brecht.json\") as f:\n",
    "    poeme = json.load(f)\n",
    "    \n",
    "print(poeme)    \n",
    "\n",
    "print(poeme[\"titre\"][\"fre\"])\n",
    "print(\"-- \" + poeme[\"auteur\"])\n",
    "for line in poeme[\"vers\"]:\n",
    "    print(\"({0}) {1}\".format(line[\"n\"], line[\"texte\"]))    #je remarque que cela marche aussi si on enlève le 0 et le 1"
   ]
  },
  {
   "cell_type": "markdown",
   "metadata": {},
   "source": [
    "#### b. comme bonus : la méthode `.format()` pour la concaténation de chaine\n",
    "\n",
    "La concaténation de chaines peut vite devenir ennuyeuse, répétitive, fautive. Heureusement, python propose des outils plutôt bien pensés pour gérer la concaténation de manière plus claire : la méthode `format`.\n",
    "\n",
    "`.format()` est appelé sur une chaine et remplace à l'intérieur de cette chaine les valeurs entre accolades. Par défaut, elle remplace les accolades dans l'ordre des variables :\n"
   ]
  },
  {
   "cell_type": "code",
   "execution_count": 8,
   "metadata": {},
   "outputs": [
    {
     "data": {
      "text/plain": [
       "'1 est en premiere position, 2 en deuxieme'"
      ]
     },
     "execution_count": 8,
     "metadata": {},
     "output_type": "execute_result"
    }
   ],
   "source": [
    "\"{} est en premiere position, {} en deuxieme\".format(1, 2)"
   ]
  },
  {
   "cell_type": "markdown",
   "metadata": {},
   "source": [
    "On remarque que Python gère le *casting* des nombres en chaine lui-même ici. Le code ci-dessus peut-être encore plus clarifié en l'écrivant ainsi :"
   ]
  },
  {
   "cell_type": "code",
   "execution_count": 4,
   "metadata": {},
   "outputs": [
    {
     "data": {
      "text/plain": [
       "'1 est en premiere position, 2 en deuxieme, et 1 était bien le premier'"
      ]
     },
     "execution_count": 4,
     "metadata": {},
     "output_type": "execute_result"
    }
   ],
   "source": [
    "\"{0} est en premiere position, {1} en deuxieme, et {0} était bien le premier\".format(1, 2)"
   ]
  },
  {
   "cell_type": "markdown",
   "metadata": {},
   "source": [
    "Quand on traite de grandes chaines, on peut simplifier encore : il s'agit alors de nommer des noms à ses remplacements :"
   ]
  },
  {
   "cell_type": "code",
   "execution_count": 14,
   "metadata": {},
   "outputs": [
    {
     "data": {
      "text/plain": [
       "\"Brecht a écrit le poème 'Solution'. Brecht est allemand.\""
      ]
     },
     "execution_count": 14,
     "metadata": {},
     "output_type": "execute_result"
    }
   ],
   "source": [
    "# L'indentation n'est pas obligatoire. Mais elle rend le code plus lisible\n",
    "\"{nom} a écrit le poème '{titre}'. {nom} est {nationalite}.\".format(\n",
    "    nom=\"Brecht\", titre=\"Solution\", nationalite=\"allemand\"\n",
    ")\n",
    "\n",
    "#il faut que soit tout soit sans index, soit tout avec index, soit tout avec des noms ; on ne peut pas mélanger"
   ]
  },
  {
   "cell_type": "markdown",
   "metadata": {},
   "source": [
    "#### c. Écrire\n",
    "\n",
    "Tout comme pour la lecture, le module JSON propose deux fonctions pour l'écriture qui correspondent à l'écriture dans une chaine de caractère (`json.dumps()`) ou dans un fichier (`dump`):"
   ]
  },
  {
   "cell_type": "code",
   "execution_count": 12,
   "metadata": {},
   "outputs": [],
   "source": [
    "import json\n",
    "\n",
    "mon_objet = [\n",
    "    {\n",
    "        \"titre\": \"Hacking Websites with SQL Injection - Computerphile\",\n",
    "        \"lien\" : \"https://www.youtube.com/watch?v=_jKylhJtPmI\"\n",
    "    },\n",
    "    {\n",
    "        \"titre\": \"Cross Site Request Forgery - Computerphile\",\n",
    "        \"lien\": \"asdfhttps://www.youtube.com/watch?v=vRBihr41JTo\"\n",
    "    }\n",
    "]"
   ]
  },
  {
   "cell_type": "code",
   "execution_count": 13,
   "metadata": {},
   "outputs": [
    {
     "name": "stdout",
     "output_type": "stream",
     "text": [
      "[{'titre': 'Hacking Websites with SQL Injection - Computerphile', 'lien': 'https://www.youtube.com/watch?v=_jKylhJtPmI'}, {'titre': 'Cross Site Request Forgery - Computerphile', 'lien': 'asdfhttps://www.youtube.com/watch?v=vRBihr41JTo'}]\n",
      "<class 'list'>\n",
      "[{\"titre\": \"Hacking Websites with SQL Injection - Computerphile\", \"lien\": \"https://www.youtube.com/watch?v=_jKylhJtPmI\"}, {\"titre\": \"Cross Site Request Forgery - Computerphile\", \"lien\": \"asdfhttps://www.youtube.com/watch?v=vRBihr41JTo\"}]\n",
      "<class 'str'>\n"
     ]
    }
   ],
   "source": [
    "# Avec une chaîne de caractère comme objectif\n",
    "print(mon_objet)\n",
    "print(type(mon_objet))\n",
    "\n",
    "chaine_json = json.dumps(mon_objet)\n",
    "print(chaine_json)\n",
    "print(type(chaine_json))\n",
    "\n",
    "#moi : cette une chaine qui peut donc aller back to le fichier json I guess"
   ]
  },
  {
   "cell_type": "code",
   "execution_count": 14,
   "metadata": {},
   "outputs": [
    {
     "name": "stdout",
     "output_type": "stream",
     "text": [
      "Hacking Websites with SQL Injection - Computerphile\n"
     ]
    }
   ],
   "source": [
    "# Avec un fichier commme objectif\n",
    "with open(\"data/json/youtube.exemple.json\", \"w\") as f:\n",
    "    json.dump(mon_objet, f)\n",
    "    \n",
    "# On vérifie que cela marche bien :\n",
    "with open(\"data/json/youtube.exemple.json\") as f:\n",
    "    chaine = f.read()\n",
    "    objet_recharge = json.loads(chaine)\n",
    "    print(objet_recharge[0][\"titre\"])\n"
   ]
  },
  {
   "cell_type": "markdown",
   "metadata": {},
   "source": [
    "#### d. Exercice\n",
    "\n",
    "Le fichier [data/json/twitter.humanitesnumeriques.json](data/json/twitter.humanitesnumeriques.json) contient quelques tweets comprenant la mention \"humanites numeriques\". \n",
    "\n",
    "1. Lisez le fichier (*utilisez si nécessaire un formateur comme [JSON Formatter](https://jsonformatter.curiousconcept.com/)*)\n",
    "2. Essayez de comprendre la structure\n",
    "3. Afficher grâce à une boucle les tweets en suivant l'exemple suivant :\n",
    "\n",
    "```\n",
    "http://twitter.com/statuses/939909652824969216    lapointejm    RT @agefen: L'ouverture de la nouvelle API de Gallica est un événement scientifique majeur pour le paysage des Humanités Numériques en Fran…\n",
    "```"
   ]
  },
  {
   "cell_type": "code",
   "execution_count": 15,
   "metadata": {
    "scrolled": true
   },
   "outputs": [
    {
     "name": "stdout",
     "output_type": "stream",
     "text": [
      "http://twitter.com/statuses/939909652824969216\tlapointejm\tRT @agefen: L'ouverture de la nouvelle API de Gallica est un événement scientifique majeur pour le paysage des Humanités Numériques en Fran…\n",
      "http://twitter.com/statuses/939505250674860035\tAnthonyMasure\tDes contenus supplémentaires de mon essai \"Design et humanités numériques\" @EditionsB42 sont disponibles en libre a… https://t.co/hJ6x0lymlw\n",
      "http://twitter.com/statuses/939238712348758017\tCombrit29\tRT @IHTP_CNRS: Guerre froide, sécurité nationale et Dirty War. Le retour du passé latino-américain à travers les « documents déclassifiés »…\n",
      "http://twitter.com/statuses/939112613547528193\ts_fredriksson\tRT @entroispoints: Présentation du livre d’@AnthonyMasure Design et humanités numériques #DesignDH @letankparis avec @nicolasthely et @Edit…\n",
      "http://twitter.com/statuses/939096874388262912\tAnthonyMasure\tRT @entroispoints: Présentation du livre d’@AnthonyMasure Design et humanités numériques #DesignDH @letankparis avec @nicolasthely et @Edit…\n",
      "http://twitter.com/statuses/939092994405339136\tentroispoints\tPrésentation du livre d’@AnthonyMasure Design et humanités numériques #DesignDH @letankparis avec @nicolasthely et… https://t.co/qe1gkwrFEO\n",
      "http://twitter.com/statuses/939086210210951169\tSophieBertrnd\tRT @Ecoledeschartes: [Vidéo] (re)voir la journée d'étude sur les #humanités #numériques, organisée par l'@ademec_enc\n",
      "https://t.co/XPMeeVuRM…\n",
      "http://twitter.com/statuses/939075181208850432\tmshstoulouse\tRT @urfistoulouse: Mise en ligne des vidéos de la captation de la 4e édition de la conférence annuelle sur les humanités numériques organis…\n",
      "http://twitter.com/statuses/939057071739293696\trvrrr\tRT @Ecoledeschartes: [Vidéo] (re)voir la journée d'étude sur les #humanités #numériques, organisée par l'@ademec_enc\n",
      "https://t.co/XPMeeVuRM…\n",
      "http://twitter.com/statuses/938915132469665797\tLauraGuien\tRT @IHTP_CNRS: Guerre froide, sécurité nationale et Dirty War. Le retour du passé latino-américain à travers les « documents déclassifiés »…\n",
      "http://twitter.com/statuses/938878443684495360\tvhugonnard1\tRT @ISORE_SHS: #isore17 @lully1804\n",
      "Experimenter les humanités numériques\n",
      "Ouvrage en accès libre en ligne (modèle auteur / payeur)\n",
      "http://twitter.com/statuses/938877376469008385\tvhugonnard1\tRT @ISORE_SHS: #isore17 @lully1804\n",
      "Experimenter les humanités numériques\n",
      "Idée de combler un vide, donner une vision de la recherche en trai…\n",
      "http://twitter.com/statuses/938877284123119616\tvhugonnard1\tRT @ISORE_SHS: #isore17 \n",
      "@lully1804 \n",
      "Experimenter les humanités numériques\n",
      "Cet ouvrage c est aussi une photographie de la recherche en trai…\n",
      "http://twitter.com/statuses/938869523939241984\tEATempora\tRT @IHTP_CNRS: Guerre froide, sécurité nationale et Dirty War. Le retour du passé latino-américain à travers les « documents déclassifiés »…\n",
      "http://twitter.com/statuses/938864145918824448\tamgoulet3\tRT @Ecoledeschartes: [Vidéo] (re)voir la journée d'étude sur les #humanités #numériques, organisée par l'@ademec_enc\n",
      "https://t.co/XPMeeVuRM…\n"
     ]
    }
   ],
   "source": [
    "\n",
    "#correction:\n",
    "with open ('data/json/twitter.humanitesnumeriques.json', mode='r') as f:\n",
    "    data = json.load(f)\n",
    "    for tweet in data[\"statuses\"]:\n",
    "        print(\"http://twitter.com/statuses/{link}\\t{nom}\\t{texte}\".format(texte=tweet[\"text\"], link=tweet[\"id\"], nom=tweet[\"user\"][\"screen_name\"]))\n",
    "\n",
    "    \"\"\"\n",
    "#mon code :\n",
    "with open ('data/json/twitter.humanitesnumeriques.json', mode='r') as f:\n",
    "    document = json.load(f)\n",
    "\n",
    "tousLesTweets = document[\"statuses\"]\n",
    "for chaqueTweet in tousLesTweets:\n",
    "    print(\"http://twitter.com/statuses/\"+str(chaqueTweet[\"id\"])+\"\\t\"+chaqueTweet[\"entities\"][\"user_mentions\"][0][\"name\"]+\"\\t\"+chaqueTweet[\"text\"])\n",
    "\"\"\"\n",
    "\n",
    "\n"
   ]
  },
  {
   "cell_type": "markdown",
   "metadata": {},
   "source": [
    "#### e. Exercice supplémentaire\n",
    "\n",
    "À partir du code précédent, transformez l'exercice en chargeant le même fichier JSON et en écrivant un fichier CSV reprenant la structure en colonne `Lien | Auteur | Date | Tweet`"
   ]
  },
  {
   "cell_type": "code",
   "execution_count": 9,
   "metadata": {},
   "outputs": [
    {
     "name": "stdout",
     "output_type": "stream",
     "text": [
      "['lien', 'Auteur', 'Date', 'Tweet']\n",
      "['http://twitter.com/statuses/939909652824969216', 'lapointejm', 'Sun Dec 10 17:28:18 +0000 2017', \"RT @agefen: L'ouverture de la nouvelle API de Gallica est un événement scientifique majeur pour le paysage des Humanités Numériques en Fran…\"]\n",
      "['http://twitter.com/statuses/939505250674860035', 'AnthonyMasure', 'Sat Dec 09 14:41:21 +0000 2017', 'Des contenus supplémentaires de mon essai \"Design et humanités numériques\" @EditionsB42 sont disponibles en libre a… https://t.co/hJ6x0lymlw']\n",
      "['http://twitter.com/statuses/939238712348758017', 'Combrit29', 'Fri Dec 08 21:02:13 +0000 2017', 'RT @IHTP_CNRS: Guerre froide, sécurité nationale et Dirty War. Le retour du passé latino-américain à travers les « documents déclassifiés »…']\n",
      "['http://twitter.com/statuses/939112613547528193', 's_fredriksson', 'Fri Dec 08 12:41:09 +0000 2017', 'RT @entroispoints: Présentation du livre d’@AnthonyMasure Design et humanités numériques #DesignDH @letankparis avec @nicolasthely et @Edit…']\n",
      "['http://twitter.com/statuses/939096874388262912', 'AnthonyMasure', 'Fri Dec 08 11:38:37 +0000 2017', 'RT @entroispoints: Présentation du livre d’@AnthonyMasure Design et humanités numériques #DesignDH @letankparis avec @nicolasthely et @Edit…']\n",
      "['http://twitter.com/statuses/939092994405339136', 'entroispoints', 'Fri Dec 08 11:23:12 +0000 2017', 'Présentation du livre d’@AnthonyMasure Design et humanités numériques #DesignDH @letankparis avec @nicolasthely et… https://t.co/qe1gkwrFEO']\n",
      "['http://twitter.com/statuses/939086210210951169', 'SophieBertrnd', 'Fri Dec 08 10:56:14 +0000 2017', \"RT @Ecoledeschartes: [Vidéo] (re)voir la journée d'étude sur les #humanités #numériques, organisée par l'@ademec_enc\\nhttps://t.co/XPMeeVuRM…\"]\n",
      "['http://twitter.com/statuses/939075181208850432', 'mshstoulouse', 'Fri Dec 08 10:12:25 +0000 2017', 'RT @urfistoulouse: Mise en ligne des vidéos de la captation de la 4e édition de la conférence annuelle sur les humanités numériques organis…']\n",
      "['http://twitter.com/statuses/939057071739293696', 'rvrrr', 'Fri Dec 08 09:00:27 +0000 2017', \"RT @Ecoledeschartes: [Vidéo] (re)voir la journée d'étude sur les #humanités #numériques, organisée par l'@ademec_enc\\nhttps://t.co/XPMeeVuRM…\"]\n",
      "['http://twitter.com/statuses/938915132469665797', 'LauraGuien', 'Thu Dec 07 23:36:26 +0000 2017', 'RT @IHTP_CNRS: Guerre froide, sécurité nationale et Dirty War. Le retour du passé latino-américain à travers les « documents déclassifiés »…']\n",
      "['http://twitter.com/statuses/938878443684495360', 'vhugonnard1', 'Thu Dec 07 21:10:39 +0000 2017', 'RT @ISORE_SHS: #isore17 @lully1804\\nExperimenter les humanités numériques\\nOuvrage en accès libre en ligne (modèle auteur / payeur)']\n",
      "['http://twitter.com/statuses/938877376469008385', 'vhugonnard1', 'Thu Dec 07 21:06:24 +0000 2017', 'RT @ISORE_SHS: #isore17 @lully1804\\nExperimenter les humanités numériques\\nIdée de combler un vide, donner une vision de la recherche en trai…']\n",
      "['http://twitter.com/statuses/938877284123119616', 'vhugonnard1', 'Thu Dec 07 21:06:02 +0000 2017', 'RT @ISORE_SHS: #isore17 \\n@lully1804 \\nExperimenter les humanités numériques\\nCet ouvrage c est aussi une photographie de la recherche en trai…']\n",
      "['http://twitter.com/statuses/938869523939241984', 'EATempora', 'Thu Dec 07 20:35:12 +0000 2017', 'RT @IHTP_CNRS: Guerre froide, sécurité nationale et Dirty War. Le retour du passé latino-américain à travers les « documents déclassifiés »…']\n",
      "['http://twitter.com/statuses/938864145918824448', 'amgoulet3', 'Thu Dec 07 20:13:50 +0000 2017', \"RT @Ecoledeschartes: [Vidéo] (re)voir la journée d'étude sur les #humanités #numériques, organisée par l'@ademec_enc\\nhttps://t.co/XPMeeVuRM…\"]\n"
     ]
    }
   ],
   "source": [
    "# Votre code ici\n",
    "import json           #on met TOUJOURS les imports en début de fichier : ça permet de savoir ce qu'on va trouver\n",
    "import csv             #dans des rares occasions on importa ailleurs ; on verra cela après \n",
    "                       #1.modules intégrés / 2.paquets externes / 3. modeles que j'ai créé moi même \n",
    "\n",
    "# Votre code ici\n",
    "\n",
    "with open('data/json/twitter.humanitesnumeriques.json') as f: \n",
    "    data = json.load(f)           #on parse le contenu. Parser = traduire vers un langage de programmation une chaîne. Réaliser l'analyse de la syntaxe d'un texte\n",
    "    with open(\"csv/tableau_twitter.csv\", mode='w') as t:\n",
    "        tableau = csv.writer(t, delimiter='\\t')\n",
    "        tableau.writerow([\"lien\", \"Auteur\", \"Date\", \"Tweet\"])\n",
    "        for tweet in data[\"statuses\"]:\n",
    "            tableau.writerow(\"http://twitter.com/statuses/{lien}|{auteur}|{date}|{texte}\".format(date=tweet[\"created_at\"], texte=tweet[\"text\"], lien=tweet[\"id\"], auteur=tweet[\"user\"][\"screen_name\"]).split('|'))\n",
    "# ou bien : tableau.writerow([\"http://twitter.com/statuses/{}\".format(tweet[\"id\"]), tweet[\"user\"][\"screen_name\"], tweet[\"created_at\"], tweet[\"text\"]])\n",
    "#mon code est trop dangereux: s¡il y a un pipe dans le tweet, cela fait une colonne! \n",
    "#lire le tableau : \n",
    "with open(\"csv/tableau_twitter.csv\", mode='r') as f:\n",
    "    tableau = csv.reader(f, delimiter=\"\\t\")\n",
    "    for ligne in tableau:\n",
    "        print(ligne)\n",
    "\n",
    " \n",
    "#correction   \n",
    "with open(\"data/json/twitter.humanitesnumeriques.json\") as f:\n",
    "     data = json.load(f)\n",
    "\n",
    "with open(\"csv/humanitesnumeriques.csv\", \"w\") as f:\n",
    "     writer = csv.writer(f, delimiter=\"|\")\n",
    "     writer.writerow([\"Lien\", \"Auteur\", \"Date\", \"Tweet\"])\n",
    "     for tweet in data[\"statuses\"]:\n",
    "         writer.writerow([\n",
    "             \"http://twitter.com/statuses/{}\".format(tweet[\"id\"]),\n",
    "             tweet[\"user\"][\"screen_name\"],\n",
    "             tweet[\"created_at\"],\n",
    "             tweet[\"text\"]\n",
    "         ])\n",
    "\n",
    "\n",
    "with open(\"csv/humanitesnumeriques2.csv\", \"w\") as f:\n",
    "     writer = csv.DictWriter(\n",
    "         f,\n",
    "         delimiter=\"|\",\n",
    "         fieldnames=[\"Lien\", \"Auteur\", \"Date\", \"Tweet\"]\n",
    "     )\n",
    "     writer.writeheader()   #ecrit les fieldnames en header\n",
    "     for tweet in data[\"statuses\"]:\n",
    "         writer.writerow({\n",
    "             \"Date\": tweet[\"created_at\"],\n",
    "             \"Tweet\": tweet[\"text\"],\n",
    "             \"Lien\": \"http://twitter.com/statuses/{}\".format(tweet[\"id\"]),\n",
    "             \"Auteur\": tweet[\"user\"][\"screen_name\"],\n",
    "         })\n",
    "\n",
    "\n"
   ]
  },
  {
   "cell_type": "markdown",
   "metadata": {},
   "source": [
    "----\n",
    "\n",
    "#### Ce que l'on a appris\n",
    "\n",
    "Pour finir cette section, voici un récapitulatif des concepts appris. Lisez la liste et posez des questions si certaines choses ne sont pas claires.\n",
    "\n",
    "- La structure d'un fichier json\n",
    "- `json.load`\n",
    "- `json.loads`\n",
    "- `json.dump`\n",
    "- `json.dumps`\n",
    "- `from ___ import ___`\n",
    "- la notion de librairie/module/package\n",
    "- `csv.reader()`\n",
    "- `csv.writer()`\n",
    "- `enumerate()`\n",
    "- Lire une documentation et ses exemples\n",
    "\n",
    "#### Ce que l'on recommande d'approfondir\n",
    "\n",
    "Si les fonctions `csv.reader()` et `csv.writer()` sont sympathiques, les fonctions `DictReader` et `DictWriter` le sont beaucoup plus : elles stockent les noms de colonnes ! *cf.* [la documentation](https://docs.python.org/3.5/library/csv.html#csv.DictReader)"
   ]
  }
 ],
 "metadata": {
  "kernelspec": {
   "display_name": "Python 3",
   "language": "python",
   "name": "python3"
  },
  "language_info": {
   "codemirror_mode": {
    "name": "ipython",
    "version": 3
   },
   "file_extension": ".py",
   "mimetype": "text/x-python",
   "name": "python",
   "nbconvert_exporter": "python",
   "pygments_lexer": "ipython3",
   "version": "3.8.5"
  }
 },
 "nbformat": 4,
 "nbformat_minor": 2
}
