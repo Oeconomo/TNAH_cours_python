{
 "cells": [
  {
   "cell_type": "markdown",
   "metadata": {},
   "source": [
    "Chapitre 7 - Flask et introduction au SQL en Python\n",
    "==="
   ]
  },
  {
   "cell_type": "markdown",
   "metadata": {},
   "source": [
    "Ce chapitre a pour but de vous faire découvrir l'utilisation de SQL en Python et avec Flask en particulier.\n",
    "\n",
    "Notre projet d'application Gazetteer se précise donc. Pour ne pas avoir à passer trop de temps sur d'autres tâches, voici un modèle de base de données pour le projet (très minimal) :\n",
    "\n",
    "![Modele](images/datamodel.png)\n",
    "\n",
    "Notre modèle est donc fait de 3 types de données et d'un lien pour deux d'entre eux. Notez qu'il est nécessaire d'avoir un `place` pour avoir un `variante`.\n",
    "\n",
    "Vous pouvez trouver dans le dossier `cours-flask` l'ensemble des données nécessaires pour créer la base de données. Cependant, nous proposons de vous aider dans cette tâche. Pour créer la base de données, vous aurez besoin : \n",
    "\n",
    "- de MySQL installé sur votre ordinateur\n",
    "- d'un accès administrateur à cette base de données\n",
    "- d'un terminal ou d'une interface pour se connecter à cette base\n",
    "\n",
    "Si vous avez MySQL DB Browser, vous pouvez importer le fichier `cours-flask/data.sql`\n",
    "\n",
    "Sinon, vous pouvez taper :"
   ]
  },
  {
   "cell_type": "code",
   "execution_count": 3,
   "metadata": {},
   "outputs": [],
   "source": [
    "!cat cours-flask/data.sql | sqlite3 cours-flask/db.sqlite"
   ]
  },
  {
   "cell_type": "markdown",
   "metadata": {},
   "source": [
    "## Travailler avec une base SQL \n",
    "\n",
    "### Anatomie d'une transaction SQL\n",
    "\n",
    "Les langages de programmation respectent en général la structure des transactions SQL.\n",
    "\n",
    "![sql.transaction.png](attachment:sql.transaction.png)\n",
    "\n",
    "Point important :\n",
    "- Durant une connexion, plusieurs transactions peuvent avoir lieu.\n",
    "- Une transaction peut contenir une ou plusieurs requêtes\n",
    "- Une transaction peut être intégralement annulée, ce qui a pour effet d'annuler l'ensemble des requêtes (et donc des INSERT et UPDATE).\n",
    "\n",
    "### Important !\n",
    "\n",
    "Quand vous entreprendrez vos propres projets et que vous travaillerez avec des bases de données:\n",
    "\n",
    "1. Ne jamais travailler directement sur la base de données publique : une erreur est vite arrivée et vous ne voulez pas effacer l'ensemble des données par mégarde...\n",
    "2. Travaillez sur des copies : faites un backup et installez ces données sur votre propre machine\n",
    "3. Privilégiez le lancement de toutes vos requêtes sur des machines hors production (= celles qui ne sont pas utilisées par le public) avant de les faire fonctionner réellement.\n",
    "\n",
    "### MySQL et Python\n",
    "\n",
    "Nous ne couvrons plus ici l'utilisation de MySQL et python de manière brute. Pour plus d'information, vous pouvez aller voir le cour dans sa forme de [2017-2018](https://github.com/PonteIneptique/cours-python/releases/tag/2017-2018).\n",
    "\n",
    "### Installation SQLite\n",
    "\n",
    "**Normalement, SQLite vient avec Mac et Linux Ubuntu par défaut.**\n",
    "\n",
    "Sinon : \n",
    "\n",
    "#### Ubuntu\n",
    "\n",
    "```shell\n",
    "sudo apt-get install sqlite3\n",
    "```\n",
    "\n",
    "#### Mac\n",
    "\n",
    "Installez [homebrew](https://brew.sh/index_fr) puis :\n",
    "\n",
    "```shell\n",
    "brew install sqlite3\n",
    "```"
   ]
  },
  {
   "cell_type": "markdown",
   "metadata": {},
   "source": [
    "## SQLAlchemy et Flask_sqlalchemy\n",
    "\n",
    "Pour interagir avec des bases de données SQL, nous recommandons en général l'utilisation de SQLAlchemy et de son adaptation à Flask `flask_sqlalchemy`. Nous ne verrons pas l'intégralité des possibilités de SQLAlchemy pour le moment mais simplement l'utilisation de celui-ci pour interroger une base de données existante.\n",
    "\n",
    "Pour installer le package, nous allons utiliser `pip` et taper dans notre terminal, avec l'environnement virtuel installé, `pip install flask_sqlalchemy==2.3.2` : "
   ]
  },
  {
   "cell_type": "code",
   "execution_count": null,
   "metadata": {},
   "outputs": [],
   "source": [
    "!pip install flask_sqlalchemy==2.3.2"
   ]
  },
  {
   "cell_type": "markdown",
   "metadata": {},
   "source": [
    "Pour utiliser flask-sqlalchemy, il va falloir connecter notre application à la base de données. Pour ce faire, il faut donner à configurer Sql Alchemy : \n",
    "\n",
    "```python\n",
    "from flask import Flask\n",
    "from flask_sqlalchemy import SQLAlchemy\n",
    "\n",
    "app = Flask(\"Nom\")\n",
    "app.config['SQLALCHEMY_DATABASE_URI'] = 'sqlite:///cours-flask/db.sqlite'\n",
    "db = SQLAlchemy(app)\n",
    "```\n",
    "\n",
    "### Commentaire de code :\n",
    "\n",
    "- Nous importons à la fois Flask et SQLAlchemy (Version flask_sqlalchemy)\n",
    "- Nous créons une application Flask qui portera le nom \"Nom\"\n",
    "- Nous configurons l'application avec les informations nécessaires pour se connecter. Vous trouverez l'ensemble des informations dans la partie [configuration](http://flask-sqlalchemy.pocoo.org/2.3/config/) de la documentation de Flask_SQLAlchemy\n",
    "- Nous initions l'objet SQLAlchemy en lui fournissant l'application comme variable et en le stockant dans la variable `db`.\n",
    "- L'adresse de base de données est composée de :\n",
    "    - `sqlite://` qui indique le moteur utilisé\n",
    "    - `/` qui indique pour sqlite l'usage d'un chemin relatif (un chemin absolu est précédé de `//` pour sqlite)\n",
    "    - `cours-flask/db.sqlite` le chemin depuis la racine du cours python jusqu'à la base de données\n",
    "\n",
    "Vu que nous n'exécutons pas le code pour le moment, vous pouvez lancer le code suivant :"
   ]
  },
  {
   "cell_type": "code",
   "execution_count": null,
   "metadata": {},
   "outputs": [],
   "source": [
    "from flask import Flask\n",
    "from flask_sqlalchemy import SQLAlchemy\n",
    "\n",
    "app = Flask(\"Nom\")\n",
    "app.config['SQLALCHEMY_DATABASE_URI'] = 'sqlite:///cours-flask/db.sqlite'\n",
    "db = SQLAlchemy(app)"
   ]
  },
  {
   "cell_type": "markdown",
   "metadata": {},
   "source": [
    "**Important:** Vous avez sûrement un avertissement. La documentation de flask_sqlalchemy nous informe que le paramètre `SQLALCHEMY_TRACK_MODIFICATIONS` devrait être désactivé, car il provoque des baisses de performances et qu'il sera supprimé par défaut dans le futur. Nous le conserverons ainsi pour le moment bien que nous ne l'utiliserons pas.\n",
    "\n",
    "### Les requêtes manuelles\n",
    "\n",
    "Pour récupérer des données de la table `place` avec SQLAlchemy, il suffit d'exécuter la sous-méthode `engine.execute()` de `db`:"
   ]
  },
  {
   "cell_type": "code",
   "execution_count": null,
   "metadata": {
    "scrolled": false
   },
   "outputs": [],
   "source": [
    "query = db.engine.execute(\"SELECT * FROM place\")\n",
    "print(query)\n",
    "# Vous pouvez remplacer fetchmany par fetchall ou fetchone en supprimant le 2\n",
    "for x in query.fetchmany(2):\n",
    "    print(x[\"place_nom\"])\n",
    "    print(type(x))"
   ]
  },
  {
   "cell_type": "markdown",
   "metadata": {},
   "source": [
    "Plusieurs choses nous intéressent ici :\n",
    "- Notre variable `query` est en fait un objet `ResultProxy` qui possèdent diverses méthodes comme `.fetchone()`, `.fetchall()` et `.fetchmany(nombre)`.\n",
    "- Nous pouvons faire une boucle sur le résultat des méthodes `.fetch[COMBIEN]()`\n",
    "- Nos résultats sont en fait des objets `RowProxy` se comportant aussi comme des dictionnaires.\n",
    "- Nos résultats prennent comme clé de dictionnaire les noms des colonnes\n",
    "\n",
    "Cependant, peu de développeurs utilisent SQLAlchemy et sa version Flask pour écrire ce genre de requête..."
   ]
  },
  {
   "cell_type": "markdown",
   "metadata": {},
   "source": [
    "### Générer les requêtes automatiquement : les modèles\n",
    "\n",
    "De fait, il est plus courant pour les développeur-se-s utilisant SQLAlchemy de créer ce que l'on va appeler des modèles. Les modèles sont créés grâce à la déclaration `class` comme suit :\n",
    "\n",
    "```python\n",
    "class Place(db.Model):\n",
    "    # Tout comme tous les deux points de python, on écrit ensuite en décalé\n",
    "```\n",
    "\n",
    "Le nom de la après `class` doit être le même que le nom de la table (avec une majuscule pour l'identifier visuellement plus facilement). On enregistre ensuite les différents champs du modèle avec la syntaxe `nom = colonne(type de colonne, paramètres supplémentaires)`:\n",
    "\n",
    "```python\n",
    "class Place(db.Model):\n",
    "    place_id = db.Column(db.Integer, unique=True, nullable=False, primary_key=True, autoincrement=True)\n",
    "```\n",
    "\n",
    "Il existe alors plusieurs types de colonnes :\n",
    "\n",
    "| Type         | Exemple         | Définition                                                                    |\n",
    "| ------------ | --------------- | ------------------------------------------------------------------------------|\n",
    "| Entier       | db.Integer      | Stocke un entier                                                              |\n",
    "| Chaîne       | db.String(42)   | Stocke une chaîne à taille maximale ( ici 42)                                 |\n",
    "| Texte        | db.Text         | Un texte sans taille maximale                                                 |\n",
    "| DateTime     | db.DateTime     | Date et Heure suivant un objet [`datetime`](https://docs.python.org/3.5/library/datetime.html) en python                           |\n",
    "| Float        | db.Float        | Stocke un décimal                                                             |\n",
    "| Boolean      | db.Boolean      | Stocke un booléen                                                             |\n",
    "\n",
    "![Modele pour les images](images/model.place.png)\n",
    "\n",
    "Pour notre classe modèle dont nous recopions l'image ci-dessus, cela signifie que notre code sera :"
   ]
  },
  {
   "cell_type": "code",
   "execution_count": null,
   "metadata": {},
   "outputs": [],
   "source": [
    "class Place(db.Model):\n",
    "    place_id = db.Column(db.Integer, unique=True, nullable=False, primary_key=True, autoincrement=True)\n",
    "    place_nom = db.Column(db.Text)\n",
    "    place_description = db.Column(db.Text)\n",
    "    place_longitude = db.Column(db.Float)\n",
    "    place_latitude = db.Column(db.Float)\n",
    "    place_type = db.Column(db.String(45))"
   ]
  },
  {
   "cell_type": "markdown",
   "metadata": {},
   "source": [
    "#### Exercice\n",
    "\n",
    "Réalisez la même chose pour la table utilisateur :\n",
    "\n",
    "![User Model](images/model.user.png)"
   ]
  },
  {
   "cell_type": "code",
   "execution_count": null,
   "metadata": {},
   "outputs": [],
   "source": [
    "# Votre code ici\n"
   ]
  },
  {
   "cell_type": "markdown",
   "metadata": {},
   "source": [
    "### Des modèles aux requêtes\n",
    "\n",
    "#### `Select * From Place`\n",
    "Maintenant que notre modèle est mis en place, il est possible de faire des requêtes. Pour récupérer l'intégralité des lieux, nous devons faire `NomDeLaClasseDeDonnées.query.all()`"
   ]
  },
  {
   "cell_type": "code",
   "execution_count": null,
   "metadata": {},
   "outputs": [],
   "source": [
    "lieux = Place.query.all()\n",
    "print(lieux)"
   ]
  },
  {
   "cell_type": "markdown",
   "metadata": {},
   "source": [
    "#### Afficher des informations sur un lieu\n",
    "\n",
    "Nous avons donc désormais une liste de lieux issus de la base de données. Peut-être pouvons-nous afficher le nom de chacun d'entre eux. Pour cela, nous allons utiliser les noms de colonnes comme des attributs :"
   ]
  },
  {
   "cell_type": "code",
   "execution_count": null,
   "metadata": {},
   "outputs": [],
   "source": [
    "for lieu in lieux:\n",
    "    print(lieu.place_nom, lieu.place_type)"
   ]
  },
  {
   "cell_type": "markdown",
   "metadata": {},
   "source": [
    "#### `Select * From Places where place_id = 1`\n",
    "\n",
    "Pour les clés primaires, Flask SqlAlchemy propose l'utilisation de `.query.get(cle)` pour récupérer l'information, en l'occurrence, si l'on voulait retrouver le lieu 5 :"
   ]
  },
  {
   "cell_type": "code",
   "execution_count": null,
   "metadata": {},
   "outputs": [],
   "source": [
    "cinq = Place.query.get(5)\n",
    "print(cinq.place_nom)"
   ]
  },
  {
   "cell_type": "markdown",
   "metadata": {},
   "source": [
    "#### `Select * From Places where place_type=\"settlement\"`\n",
    "\n",
    "Pour les requêtes plus complexes (avec un champ autre que le champ primaire), on utilise les conditions pythons `==` dans `.query.filter()`. On retrouve ensuite les résultats en utilisant :\n"
   ]
  },
  {
   "cell_type": "code",
   "execution_count": null,
   "metadata": {},
   "outputs": [],
   "source": [
    "settlements = Place.query.filter(Place.place_type==\"settlement\").all()\n",
    "print(settlements)"
   ]
  },
  {
   "cell_type": "markdown",
   "metadata": {},
   "source": [
    "#### Compter le nombre de résultats\n",
    "\n",
    "Il y a des situations où l'on souhaite simplement compter les résultats pour afficher cette information. On remplacera alors simplement `.all()` par `.count()` :\n"
   ]
  },
  {
   "cell_type": "code",
   "execution_count": null,
   "metadata": {},
   "outputs": [],
   "source": [
    "settlements = Place.query.filter(Place.place_type==\"settlement\").count()\n",
    "print(settlements)"
   ]
  },
  {
   "cell_type": "markdown",
   "metadata": {},
   "source": [
    "### Une expliquation : ce qui se passe derrière tout cela\n",
    "\n",
    "SQL Alchemy est ce que l'on appelle un ORM ([Object-Relational Mapping](https://fr.wikipedia.org/wiki/Mapping_objet-relationnel)). Les ORM ont généralement plusieurs avantages sur l'utilisation de requêtes directement écrites en SQL :\n",
    "\n",
    "- les résultats sont dans des formes faciles à exploiter : il ne s'agit pas de dictionnaire ou de liste, mais d'objet;\n",
    "- les requêtes sont simples à écrire et faciles à comprendre sans avoir de grandes connaissances en SQL;\n",
    "- généralement, ils offrent une compatibilité avec de nombreux systèmes : SQLAlchemy peut se connecter à SQLite, Postgresql, MySQL, Oracle, MS-SQL, Firebird, Sybase, etc. Cela signifie qu'il est possible de changer de système très facilement en changeant simplement la ligne de connexion.\n",
    "\n",
    "Quand on réalise une requête de type `Place.query.filter(Place.place_type==\"settlement\")`, Flask-SQLAlchemy va commencer à construire la requête suivante : `SELECT * FROM Place WHERE place_type=\"settlement\"`. Puis, :\n",
    "- en faisant `.all()` ensuite, il va récupérer l'ensemble des résultats tels quels\n",
    "- en faisant `.count()`, il va modifier la requête en `SELECT COUNT(*) FROM Place where place_type=\"settlement\"` puis l'exécuter\n",
    "- en faisant `.first()`, on récupèrera le premier résultat (et donc on évite une liste)\n",
    "\n",
    "La requête est donc traduite et augmentée au fur et à mesure que nous enchaînons les méthodes.\n",
    "\n",
    "#### Exercice\n",
    "Par exemple, on peut très bien ordonner les objets. Pouvez-vous traduire la ligne suivante en MySQL :"
   ]
  },
  {
   "cell_type": "code",
   "execution_count": null,
   "metadata": {},
   "outputs": [],
   "source": [
    "settlements = Place.query.filter(Place.place_type==\"settlement\").order_by(Place.place_nom.desc()).all()\n",
    "print(settlements)\n",
    "\n",
    "# En SQL :\n",
    "requete = \"\""
   ]
  },
  {
   "cell_type": "markdown",
   "metadata": {},
   "source": [
    "Notez qu'il est possible de récupérer la requête traduire pour la déboguer !"
   ]
  },
  {
   "cell_type": "code",
   "execution_count": null,
   "metadata": {},
   "outputs": [],
   "source": [
    "requete = Place.query.filter(Place.place_type==\"settlement\").order_by(Place.place_nom.desc())\n",
    "\n",
    "# En SQL :\n",
    "print(requete)"
   ]
  },
  {
   "cell_type": "markdown",
   "metadata": {},
   "source": [
    "### Des requêtes à leur utilisation dans une page web\n",
    "\n",
    "Maintenant que nous avons notre modèle, nous pouvons commencer à intégrer ces requêtes. Nous avions jusque là une page index qui affichait l'ensemble des liens de la base de données. Nous allons donc d'abord configurer comme ci-dessus Flask SQL Alchemy :\n",
    "\n",
    "```python\n",
    "\n",
    "from flask import Flask, render_template\n",
    "from flask_sqlalchemy import SQLAlchemy\n",
    "\n",
    "app = Flask(\"Application\")\n",
    "# On configure la base de données\n",
    "app.config['SQLALCHEMY_DATABASE_URI'] = 'sqlite:///cours-flask/db.sqlite'\n",
    "# On initie l'extension\n",
    "db = SQLAlchemy(app)\n",
    "```\n",
    "\n",
    "On copiera ensuite le modèle de données :\n",
    "\n",
    "```python\n",
    "\n",
    "class Place(db.Model):\n",
    "    place_id = db.Column(db.Integer, unique=True, nullable=False, primary_key=True, autoincrement=True)\n",
    "    place_nom = db.Column(db.Text)\n",
    "    place_description = db.Column(db.Text)\n",
    "    place_longitude = db.Column(db.Float)\n",
    "    place_latitude = db.Column(db.Float)\n",
    "    place_type = db.Column(db.String(45))\n",
    "```\n",
    "\n",
    "Puis on récupère les données au moment de l'exécution des routes :\n",
    "\n",
    "```python\n",
    "\n",
    "@app.route(\"/\")\n",
    "def accueil():\n",
    "    # On a bien sûr aussi modifié le template pour refléter le changement\n",
    "    lieux = Place.query.all()\n",
    "    return render_template(\"pages/accueil.html\", nom=\"Gazetteer\", lieux=lieux)\n",
    "```\n"
   ]
  },
  {
   "cell_type": "markdown",
   "metadata": {},
   "source": [
    "#### Exercice\n",
    "\n",
    "**Avant de regarder l'exemple 11 ci-dessous**, essayez de modifier la route ci-dessous afin qu'elle utilise la connexion à la base de données :\n",
    "\n",
    "```python\n",
    "@app.route(\"/place/<int:place_id>\")\n",
    "def lieu(place_id):\n",
    "    return render_template(\"pages/place.html\", nom=\"Gazetteer\", lieu=lieux[place_id])\n",
    "```"
   ]
  },
  {
   "cell_type": "code",
   "execution_count": null,
   "metadata": {},
   "outputs": [],
   "source": [
    "# Votre code ici :"
   ]
  },
  {
   "cell_type": "markdown",
   "metadata": {},
   "source": [
    "#### Exemple 11\n",
    "\n",
    "- [Nouveau template pour l'accueil](cours-flask/exemple11/templates/pages/accueil.html)\n",
    "- [Nouveau template pour les lieux](cours-flask/exemple11/templates/pages/place.html)\n",
    "\n",
    "Dans votre terminal, avec votre environnement virtuel :\n",
    "\n",
    "```sh\n",
    "cd cours-flask/exemple11\n",
    "python app.py\n",
    "```\n",
    "\n",
    "puis allez sur http://127.0.0.1:5000"
   ]
  }
 ],
 "metadata": {
  "kernelspec": {
   "display_name": "Python 3 (ipykernel)",
   "language": "python",
   "name": "python3"
  },
  "language_info": {
   "codemirror_mode": {
    "name": "ipython",
    "version": 3
   },
   "file_extension": ".py",
   "mimetype": "text/x-python",
   "name": "python",
   "nbconvert_exporter": "python",
   "pygments_lexer": "ipython3",
   "version": "3.8.12"
  }
 },
 "nbformat": 4,
 "nbformat_minor": 2
}
